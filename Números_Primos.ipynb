{
  "nbformat": 4,
  "nbformat_minor": 0,
  "metadata": {
    "colab": {
      "name": "Números_Primos.ipynb",
      "provenance": [],
      "collapsed_sections": [],
      "authorship_tag": "ABX9TyOCm8Jtr3BS6yUEMZtOWvWz",
      "include_colab_link": true
    },
    "kernelspec": {
      "name": "python3",
      "display_name": "Python 3"
    },
    "language_info": {
      "name": "python"
    }
  },
  "cells": [
    {
      "cell_type": "markdown",
      "metadata": {
        "id": "view-in-github",
        "colab_type": "text"
      },
      "source": [
        "<a href=\"https://colab.research.google.com/github/EmmanuelPaz43/N-meros_Primos/blob/main/N%C3%BAmeros_Primos.ipynb\" target=\"_parent\"><img src=\"https://colab.research.google.com/assets/colab-badge.svg\" alt=\"Open In Colab\"/></a>"
      ]
    },
    {
      "cell_type": "code",
      "metadata": {
        "colab": {
          "base_uri": "https://localhost:8080/"
        },
        "id": "L355BrLTrqyy",
        "outputId": "bd771667-bcd4-4405-fe1b-b0d2e16f52c7"
      },
      "source": [
        "import math\n",
        "\n",
        "def isPrimeFor (num):\n",
        "  flag=True\n",
        "\n",
        "  if num==2:\n",
        "    flag=True\n",
        "  elif num==1:\n",
        "    flag=False\n",
        "  else:\n",
        "    for i in range (2, int(num/2)+1):\n",
        "      if num%i==0:\n",
        "        flag=False\n",
        "        print(\"tu número es divisible entre \", i, \" y, \", int(num/i))\n",
        "        break\n",
        "  return flag \n",
        "\n",
        "p=int(input('Dame un número: '))\n",
        "\n",
        "if isPrimeFor(p):\n",
        "  print(\"es primo\")\n",
        "else:\n",
        "  print(\"no es primo\")   "
      ],
      "execution_count": 13,
      "outputs": [
        {
          "output_type": "stream",
          "name": "stdout",
          "text": [
            "Dame un número: 89\n",
            "es primo\n"
          ]
        }
      ]
    }
  ]
}